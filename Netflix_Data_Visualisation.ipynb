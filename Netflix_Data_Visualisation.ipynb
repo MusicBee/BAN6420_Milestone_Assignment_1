{
  "nbformat": 4,
  "nbformat_minor": 0,
  "metadata": {
    "colab": {
      "provenance": [],
      "authorship_tag": "ABX9TyMFJ3wuxAniBlThVyMyOLXM",
      "include_colab_link": true
    },
    "kernelspec": {
      "name": "python3",
      "display_name": "Python 3"
    },
    "language_info": {
      "name": "python"
    }
  },
  "cells": [
    {
      "cell_type": "markdown",
      "metadata": {
        "id": "view-in-github",
        "colab_type": "text"
      },
      "source": [
        "<a href=\"https://colab.research.google.com/github/MusicBee/BAN6420_Milestone_Assignment_1/blob/main/Netflix_Data_Visualisation.ipynb\" target=\"_parent\"><img src=\"https://colab.research.google.com/assets/colab-badge.svg\" alt=\"Open In Colab\"/></a>"
      ]
    },
    {
      "cell_type": "code",
      "execution_count": null,
      "metadata": {
        "id": "hoohRsb49Iwv"
      },
      "outputs": [],
      "source": [
        "### IMPORT RELATED LIBRARIES TO PERFORM TASKS\n",
        "import zipfile\n",
        "import pandas as pd\n",
        "import matplotlib.pyplot as plt\n",
        "import seaborn as sns\n",
        "from pathlib import Path\n",
        "import os\n"
      ]
    },
    {
      "cell_type": "code",
      "source": [
        "### EXTRACT ZIP FILE AND RENAME FILE\n",
        "def extract_and_rename(zip_path, extract_to, new_filename):\n",
        "    \"\"\"\n",
        "    Extracts the first CSV file from a zip archive and renames it.\n",
        "\n",
        "    Parameters:\n",
        "    zip_path (str): Path to the zip file.\n",
        "    extract_to (str): Directory where files will be extracted.\n",
        "    new_filename (str): New name for the extracted CSV file (with .csv extension).\n",
        "    \"\"\"\n",
        "    # Ensure the extraction directory exists\n",
        "    os.makedirs(extract_to, exist_ok=True)\n",
        "\n",
        "    with zipfile.ZipFile(zip_path, 'r') as zip_ref:\n",
        "        # List all files in the zip\n",
        "        file_list = zip_ref.namelist()\n",
        "\n",
        "        # Filter only CSV files\n",
        "        csv_files = [f for f in file_list if f.endswith('.csv')]\n",
        "\n",
        "        if not csv_files:\n",
        "            raise FileNotFoundError(\"No CSV file found in the zip archive.\")\n",
        "\n",
        "        # Extract the first CSV\n",
        "        original_csv = csv_files[0]\n",
        "        zip_ref.extract(original_csv, extract_to)\n",
        "\n",
        "        # Define old and new paths\n",
        "        old_path = os.path.join(extract_to, original_csv)\n",
        "        new_path = os.path.join(extract_to, new_filename)\n",
        "\n",
        "        # Rename the file\n",
        "        os.rename(old_path, new_path)\n",
        "        print(f\"Extracted and renamed {original_csv} → {new_filename}\")\n",
        "\n"
      ],
      "metadata": {
        "id": "9A0PELxKdoWp"
      },
      "execution_count": 29,
      "outputs": []
    },
    {
      "cell_type": "code",
      "source": [
        "### PREPARE AND ANALYZE THE EXTRACTED FILE\n",
        "def prepare_and_analyze(zip_file, output_dir=\"output\", renamed=\"netflix_shows_movies.csv\"):\n",
        "\n",
        "\n",
        "    ### Create an output directory\n",
        "    output_dir = Path(output_dir)\n",
        "    plots_dir = output_dir / \"plots\"\n",
        "    output_dir.mkdir(parents=True, exist_ok=True)\n",
        "    plots_dir.mkdir(parents=True, exist_ok=True)\n",
        "    print(f\"Created output directory: {output_dir}\")\n",
        "    print(f\"Created plots directory: {plots_dir}\")\n",
        "\n",
        "    ### Unzipped and Extracted the netflix_data.zip\n",
        "    with zipfile.ZipFile(zip_file, 'r') as zf:\n",
        "        zf.extractall(output_dir)\n",
        "    print(f\"Extracted {zip_file} to {output_dir}\")\n",
        "\n",
        "    ### Function to rename extracted file to Netflix_Shows_Movies.csv\n",
        "    extract_and_rename(zip_file, output_dir, renamed)\n",
        "\n",
        "    # Find the CSV file within the extracted data\n",
        "    csv_files = list(output_dir.glob(\"**/*.csv\")) # Search for CSV recursively\n",
        "    if not csv_files:\n",
        "       raise FileNotFoundError(f\"No CSV file found in extracted data within {output_dir}.\")\n",
        "    data_file = csv_files[0] # Use the first CSV file found\n",
        "\n",
        "\n",
        "\n",
        "\n",
        "\n",
        "    ### READ FILE INTO DATA FRAME FOR CLEASING\n",
        "    df = pd.read_csv(data_file)\n",
        "\n",
        "    # Remove Duplicates and Fillin the Missing Values\n",
        "    df.drop_duplicates(inplace=True)\n",
        "    for col in df.select_dtypes(include=[\"object\"]).columns:\n",
        "        df[col].fillna(\"Unknown\", inplace=True)\n",
        "    for col in df.select_dtypes(include=[\"number\"]).columns:\n",
        "        df[col].fillna(df[col].mean(), inplace=True)\n",
        "\n",
        "    cleaned_file = output_dir / \"cleaned_netflix_data.csv\"\n",
        "    df.to_csv(cleaned_file, index=False)\n",
        "    print(f\"Saved cleaned dataset at {cleaned_file}\")\n",
        "\n",
        "\n",
        "\n",
        "\n",
        "\n",
        "\n",
        "    ### DATA EXPLORATION\n",
        "    summary_file = output_dir / \"summary.txt\"\n",
        "    with open(summary_file, \"w\") as f:\n",
        "        f.write(\"### Data Info ###\\n\\n\")\n",
        "        df.info(buf=f)\n",
        "        f.write(\"\\n\\n### Description ###\\n\\n\")\n",
        "        f.write(str(df.describe(include=\"all\")))\n",
        "    print(f\"Summary saved at {summary_file}\")\n",
        "\n",
        "\n",
        "\n",
        "\n",
        "\n",
        "\n",
        "\n",
        "    ### DATA VISUALISATION\n",
        "    # Check if 'genre' or 'listed_in' column exists for visualization\n",
        "    genre_column = None\n",
        "    if \"genre\" in df.columns:\n",
        "        genre_column = \"genre\"\n",
        "    elif \"listed_in\" in df.columns:\n",
        "        genre_column = \"listed_in\"\n",
        "\n",
        "    if genre_column:\n",
        "        plt.figure(figsize=(10,6))\n",
        "        # Split genres if 'listed_in' is used as it might contain multiple genres\n",
        "        if genre_column == \"listed_in\":\n",
        "            genres = df[genre_column].str.split(', ').explode()\n",
        "            genres.value_counts().head(10).plot(kind=\"bar\", color=\"skyblue\")\n",
        "        else:\n",
        "            df[genre_column].value_counts().head(10).plot(kind=\"bar\", color=\"skyblue\")\n",
        "\n",
        "        plt.title(f\"Top 10 Most Watched {genre_column.replace('_',' ').title()}\")\n",
        "        plt.xlabel(genre_column.replace('_',' ').title())\n",
        "        plt.ylabel(\"Count\")\n",
        "        plt.xticks(rotation=45)\n",
        "        plt.tight_layout()\n",
        "        plt.savefig(plots_dir / f\"most_watched_{genre_column}.png\")\n",
        "        plt.close()\n",
        "\n",
        "\n",
        "    if \"rating\" in df.columns:\n",
        "        plt.figure(figsize=(10,6))\n",
        "        sns.countplot(x=\"rating\", data=df, palette=\"Set2\",\n",
        "                      order=df[\"rating\"].value_counts().index)\n",
        "        plt.title(\"Ratings Distribution\")\n",
        "        plt.xlabel(\"Rating\")\n",
        "        plt.ylabel(\"Count\")\n",
        "        plt.xticks(rotation=45)\n",
        "        plt.tight_layout()\n",
        "        plt.savefig(plots_dir / \"ratings_distribution.png\")\n",
        "        plt.close()\n",
        "\n",
        ""
      ],
      "metadata": {
        "id": "dC19n09K9bF_"
      },
      "execution_count": 44,
      "outputs": []
    },
    {
      "cell_type": "code",
      "source": [
        "### USAGE\n",
        "dataset_path = \"/content/netflix/netflix_data.zip\"\n",
        "prepare_and_analyze(dataset_path, output_dir=\"/content/netflix/myoutput\")"
      ],
      "metadata": {
        "id": "8-r5TsX7FUeR"
      },
      "execution_count": null,
      "outputs": []
    }
  ]
}